{
 "cells": [
  {
   "cell_type": "markdown",
   "metadata": {},
   "source": [
    "# TWITTER GIVEAWAY CONTEST\n"
   ]
  },
  {
   "cell_type": "markdown",
   "metadata": {},
   "source": [
    "#### First we login to our twitter developer account."
   ]
  },
  {
   "cell_type": "code",
   "execution_count": 1,
   "metadata": {},
   "outputs": [],
   "source": [
    "\n",
    "import tweepy\n",
    "consumer_key=\"\"\n",
    "consumer_secret=\"\"\n",
    "acc_token=\"\"\n",
    "acc_secret=\"\"\n",
    "auth = tweepy.OAuthHandler(consumer_key, consumer_secret)\n",
    "auth.set_access_token(acc_token, acc_secret)\n",
    "api = tweepy.API(auth)"
   ]
  },
  {
   "cell_type": "markdown",
   "metadata": {},
   "source": [
    "#### Then we import pandas library and pull the tweets depending to our contest criterias."
   ]
  },
  {
   "cell_type": "code",
   "execution_count": 2,
   "metadata": {},
   "outputs": [],
   "source": [
    "import pandas as pd"
   ]
  },
  {
   "cell_type": "code",
   "execution_count": 3,
   "metadata": {},
   "outputs": [],
   "source": [
    "dataframe = pd.DataFrame()\n",
    "msgs = []\n",
    "msg =[]\n",
    "\n",
    "search_query=' @F1 AND #Mercedes'\n",
    "\n",
    "for tweet in tweepy.Cursor(api.search, q=search_query, lang='en', rpp=100).items(100):\n",
    "    msg = [tweet.text,tweet.user.name, tweet.retweet_count, tweet.favorite_count,tweet.created_at] \n",
    "    msg = tuple(msg)                                       \n",
    "    msgs.append(msg)\n",
    "\n",
    "dataframe = pd.DataFrame(msgs)\n",
    "\n"
   ]
  },
  {
   "cell_type": "markdown",
   "metadata": {},
   "source": [
    "#### We create a dataframe and name our columns."
   ]
  },
  {
   "cell_type": "code",
   "execution_count": 4,
   "metadata": {},
   "outputs": [],
   "source": [
    "dataframe.columns=[\"TEXT\", \"USERNAME\", \"RETWEET_COUNT\", \"FAVORITE_COUNT\",\"DATE_AND_TIME\"]"
   ]
  },
  {
   "cell_type": "code",
   "execution_count": 5,
   "metadata": {
    "scrolled": false
   },
   "outputs": [
    {
     "data": {
      "text/html": [
       "<div>\n",
       "<style scoped>\n",
       "    .dataframe tbody tr th:only-of-type {\n",
       "        vertical-align: middle;\n",
       "    }\n",
       "\n",
       "    .dataframe tbody tr th {\n",
       "        vertical-align: top;\n",
       "    }\n",
       "\n",
       "    .dataframe thead th {\n",
       "        text-align: right;\n",
       "    }\n",
       "</style>\n",
       "<table border=\"1\" class=\"dataframe\">\n",
       "  <thead>\n",
       "    <tr style=\"text-align: right;\">\n",
       "      <th></th>\n",
       "      <th>TEXT</th>\n",
       "      <th>USERNAME</th>\n",
       "      <th>RETWEET_COUNT</th>\n",
       "      <th>FAVORITE_COUNT</th>\n",
       "      <th>DATE_AND_TIME</th>\n",
       "    </tr>\n",
       "  </thead>\n",
       "  <tbody>\n",
       "    <tr>\n",
       "      <th>0</th>\n",
       "      <td>Evening reading? Our South American Motor Raci...</td>\n",
       "      <td>Beyond The Box</td>\n",
       "      <td>0</td>\n",
       "      <td>0</td>\n",
       "      <td>2020-12-08 20:19:54</td>\n",
       "    </tr>\n",
       "    <tr>\n",
       "      <th>1</th>\n",
       "      <td>@F1 Do you want to see @GeorgeRussell63 racing...</td>\n",
       "      <td>Mahesh</td>\n",
       "      <td>0</td>\n",
       "      <td>0</td>\n",
       "      <td>2020-12-08 18:01:12</td>\n",
       "    </tr>\n",
       "    <tr>\n",
       "      <th>2</th>\n",
       "      <td>Our South American Motor Racing Expert @AlexFr...</td>\n",
       "      <td>Beyond The Box</td>\n",
       "      <td>0</td>\n",
       "      <td>0</td>\n",
       "      <td>2020-12-08 16:12:17</td>\n",
       "    </tr>\n",
       "    <tr>\n",
       "      <th>3</th>\n",
       "      <td>Toto Wolff: Overall, it was just a colossal fu...</td>\n",
       "      <td>Joshy Stuart</td>\n",
       "      <td>0</td>\n",
       "      <td>0</td>\n",
       "      <td>2020-12-08 03:15:01</td>\n",
       "    </tr>\n",
       "    <tr>\n",
       "      <th>4</th>\n",
       "      <td>@GeorgeRussell63 @SChecoPerez Your great perfo...</td>\n",
       "      <td>Skeem</td>\n",
       "      <td>0</td>\n",
       "      <td>1</td>\n",
       "      <td>2020-12-07 20:17:58</td>\n",
       "    </tr>\n",
       "    <tr>\n",
       "      <th>...</th>\n",
       "      <td>...</td>\n",
       "      <td>...</td>\n",
       "      <td>...</td>\n",
       "      <td>...</td>\n",
       "      <td>...</td>\n",
       "    </tr>\n",
       "    <tr>\n",
       "      <th>95</th>\n",
       "      <td>@F1 @LewisHamilton The excitement must be unbe...</td>\n",
       "      <td>Tu Quoque</td>\n",
       "      <td>0</td>\n",
       "      <td>0</td>\n",
       "      <td>2020-11-30 16:12:52</td>\n",
       "    </tr>\n",
       "    <tr>\n",
       "      <th>96</th>\n",
       "      <td>#F1 World champion Lewis Hamilton made it five...</td>\n",
       "      <td>Outlook Magazine</td>\n",
       "      <td>0</td>\n",
       "      <td>0</td>\n",
       "      <td>2020-11-29 18:03:41</td>\n",
       "    </tr>\n",
       "    <tr>\n",
       "      <th>97</th>\n",
       "      <td>@F1 @redbullracing flags looks similar in colo...</td>\n",
       "      <td>Vino Kumar Ponnu Krishnan</td>\n",
       "      <td>0</td>\n",
       "      <td>0</td>\n",
       "      <td>2020-11-29 17:52:22</td>\n",
       "    </tr>\n",
       "    <tr>\n",
       "      <th>98</th>\n",
       "      <td>@F1 @redbullracing @LewisHamilton and his 2 bo...</td>\n",
       "      <td>EAGG</td>\n",
       "      <td>0</td>\n",
       "      <td>0</td>\n",
       "      <td>2020-11-29 17:41:12</td>\n",
       "    </tr>\n",
       "    <tr>\n",
       "      <th>99</th>\n",
       "      <td>@F1 @LewisHamilton @MercedesAMGF1 DO NOT compa...</td>\n",
       "      <td>Alessandro 🇮🇹</td>\n",
       "      <td>0</td>\n",
       "      <td>1</td>\n",
       "      <td>2020-11-29 17:18:30</td>\n",
       "    </tr>\n",
       "  </tbody>\n",
       "</table>\n",
       "<p>100 rows × 5 columns</p>\n",
       "</div>"
      ],
      "text/plain": [
       "                                                 TEXT  \\\n",
       "0   Evening reading? Our South American Motor Raci...   \n",
       "1   @F1 Do you want to see @GeorgeRussell63 racing...   \n",
       "2   Our South American Motor Racing Expert @AlexFr...   \n",
       "3   Toto Wolff: Overall, it was just a colossal fu...   \n",
       "4   @GeorgeRussell63 @SChecoPerez Your great perfo...   \n",
       "..                                                ...   \n",
       "95  @F1 @LewisHamilton The excitement must be unbe...   \n",
       "96  #F1 World champion Lewis Hamilton made it five...   \n",
       "97  @F1 @redbullracing flags looks similar in colo...   \n",
       "98  @F1 @redbullracing @LewisHamilton and his 2 bo...   \n",
       "99  @F1 @LewisHamilton @MercedesAMGF1 DO NOT compa...   \n",
       "\n",
       "                     USERNAME  RETWEET_COUNT  FAVORITE_COUNT  \\\n",
       "0              Beyond The Box              0               0   \n",
       "1                      Mahesh              0               0   \n",
       "2              Beyond The Box              0               0   \n",
       "3                Joshy Stuart              0               0   \n",
       "4                       Skeem              0               1   \n",
       "..                        ...            ...             ...   \n",
       "95                  Tu Quoque              0               0   \n",
       "96           Outlook Magazine              0               0   \n",
       "97  Vino Kumar Ponnu Krishnan              0               0   \n",
       "98                       EAGG              0               0   \n",
       "99              Alessandro 🇮🇹              0               1   \n",
       "\n",
       "         DATE_AND_TIME  \n",
       "0  2020-12-08 20:19:54  \n",
       "1  2020-12-08 18:01:12  \n",
       "2  2020-12-08 16:12:17  \n",
       "3  2020-12-08 03:15:01  \n",
       "4  2020-12-07 20:17:58  \n",
       "..                 ...  \n",
       "95 2020-11-30 16:12:52  \n",
       "96 2020-11-29 18:03:41  \n",
       "97 2020-11-29 17:52:22  \n",
       "98 2020-11-29 17:41:12  \n",
       "99 2020-11-29 17:18:30  \n",
       "\n",
       "[100 rows x 5 columns]"
      ]
     },
     "execution_count": 5,
     "metadata": {},
     "output_type": "execute_result"
    }
   ],
   "source": [
    "dataframe\n"
   ]
  },
  {
   "cell_type": "markdown",
   "metadata": {},
   "source": [
    "#### We modify our dataframe and create an index depending on text to work easily."
   ]
  },
  {
   "cell_type": "code",
   "execution_count": 6,
   "metadata": {},
   "outputs": [],
   "source": [
    "text_index = dataframe.set_index(\"TEXT\")"
   ]
  },
  {
   "cell_type": "code",
   "execution_count": 7,
   "metadata": {},
   "outputs": [
    {
     "data": {
      "text/html": [
       "<div>\n",
       "<style scoped>\n",
       "    .dataframe tbody tr th:only-of-type {\n",
       "        vertical-align: middle;\n",
       "    }\n",
       "\n",
       "    .dataframe tbody tr th {\n",
       "        vertical-align: top;\n",
       "    }\n",
       "\n",
       "    .dataframe thead th {\n",
       "        text-align: right;\n",
       "    }\n",
       "</style>\n",
       "<table border=\"1\" class=\"dataframe\">\n",
       "  <thead>\n",
       "    <tr style=\"text-align: right;\">\n",
       "      <th></th>\n",
       "      <th>USERNAME</th>\n",
       "      <th>RETWEET_COUNT</th>\n",
       "      <th>FAVORITE_COUNT</th>\n",
       "      <th>DATE_AND_TIME</th>\n",
       "    </tr>\n",
       "    <tr>\n",
       "      <th>TEXT</th>\n",
       "      <th></th>\n",
       "      <th></th>\n",
       "      <th></th>\n",
       "      <th></th>\n",
       "    </tr>\n",
       "  </thead>\n",
       "  <tbody>\n",
       "    <tr>\n",
       "      <th>Evening reading? Our South American Motor Racing Expert @AlexFrancoRod takes a look at @F1 and @RacingPointF1 drive… https://t.co/Jq54HLok1S</th>\n",
       "      <td>Beyond The Box</td>\n",
       "      <td>0</td>\n",
       "      <td>0</td>\n",
       "      <td>2020-12-08 20:19:54</td>\n",
       "    </tr>\n",
       "    <tr>\n",
       "      <th>@F1 Do you want to see @GeorgeRussell63 racing one more race in @MercedesAMGF1 this season?\\n\\n#F1 #lewishamilton #GeorgeRussell #Mercedes</th>\n",
       "      <td>Mahesh</td>\n",
       "      <td>0</td>\n",
       "      <td>0</td>\n",
       "      <td>2020-12-08 18:01:12</td>\n",
       "    </tr>\n",
       "    <tr>\n",
       "      <th>Our South American Motor Racing Expert @AlexFrancoRod takes a look at @F1 and @RacingPointF1 driver @SChecoPerez wi… https://t.co/njlWJOE2a4</th>\n",
       "      <td>Beyond The Box</td>\n",
       "      <td>0</td>\n",
       "      <td>0</td>\n",
       "      <td>2020-12-08 16:12:17</td>\n",
       "    </tr>\n",
       "    <tr>\n",
       "      <th>Toto Wolff: Overall, it was just a colossal fuck up. \\n\\nHe wasn't wrong....\\n\\n@MercedesAMGF1 @GeorgeRussell63 @F1 #f1… https://t.co/4lOY4OtLhI</th>\n",
       "      <td>Joshy Stuart</td>\n",
       "      <td>0</td>\n",
       "      <td>0</td>\n",
       "      <td>2020-12-08 03:15:01</td>\n",
       "    </tr>\n",
       "    <tr>\n",
       "      <th>@GeorgeRussell63 @SChecoPerez Your great performance has proven beyond any doubt that the secret behind… https://t.co/F4lFtEwl3a</th>\n",
       "      <td>Skeem</td>\n",
       "      <td>0</td>\n",
       "      <td>1</td>\n",
       "      <td>2020-12-07 20:17:58</td>\n",
       "    </tr>\n",
       "    <tr>\n",
       "      <th>...</th>\n",
       "      <td>...</td>\n",
       "      <td>...</td>\n",
       "      <td>...</td>\n",
       "      <td>...</td>\n",
       "    </tr>\n",
       "    <tr>\n",
       "      <th>@F1 @LewisHamilton The excitement must be unbearable, no sorry the boredom and predictability of your fake sport is… https://t.co/JgmMNjcdwt</th>\n",
       "      <td>Tu Quoque</td>\n",
       "      <td>0</td>\n",
       "      <td>0</td>\n",
       "      <td>2020-11-30 16:12:52</td>\n",
       "    </tr>\n",
       "    <tr>\n",
       "      <th>#F1 World champion Lewis Hamilton made it five consecutive Formula One wins @F1  #LewisHamilton  #Mercedes #HaasF1… https://t.co/16FIsw8zIG</th>\n",
       "      <td>Outlook Magazine</td>\n",
       "      <td>0</td>\n",
       "      <td>0</td>\n",
       "      <td>2020-11-29 18:03:41</td>\n",
       "    </tr>\n",
       "    <tr>\n",
       "      <th>@F1 @redbullracing flags looks similar in colors only the bars in different Position\\n\\nMad Race\\n\\nBrave wishes to the… https://t.co/YAMx1XcIgy</th>\n",
       "      <td>Vino Kumar Ponnu Krishnan</td>\n",
       "      <td>0</td>\n",
       "      <td>0</td>\n",
       "      <td>2020-11-29 17:52:22</td>\n",
       "    </tr>\n",
       "    <tr>\n",
       "      <th>@F1 @redbullracing @LewisHamilton and his 2 bodyguards in the Pic. He is the boss, the GOT. #Hamilton #Mercedes #f1 #GPBarein</th>\n",
       "      <td>EAGG</td>\n",
       "      <td>0</td>\n",
       "      <td>0</td>\n",
       "      <td>2020-11-29 17:41:12</td>\n",
       "    </tr>\n",
       "    <tr>\n",
       "      <th>@F1 @LewisHamilton @MercedesAMGF1 DO NOT compare #Hamilton to #Schumacher, Schumi's #Ferrari dominated like today's… https://t.co/wtciAncqd9</th>\n",
       "      <td>Alessandro 🇮🇹</td>\n",
       "      <td>0</td>\n",
       "      <td>1</td>\n",
       "      <td>2020-11-29 17:18:30</td>\n",
       "    </tr>\n",
       "  </tbody>\n",
       "</table>\n",
       "<p>100 rows × 4 columns</p>\n",
       "</div>"
      ],
      "text/plain": [
       "                                                                     USERNAME  \\\n",
       "TEXT                                                                            \n",
       "Evening reading? Our South American Motor Racin...             Beyond The Box   \n",
       "@F1 Do you want to see @GeorgeRussell63 racing ...                     Mahesh   \n",
       "Our South American Motor Racing Expert @AlexFra...             Beyond The Box   \n",
       "Toto Wolff: Overall, it was just a colossal fuc...               Joshy Stuart   \n",
       "@GeorgeRussell63 @SChecoPerez Your great perfor...                      Skeem   \n",
       "...                                                                       ...   \n",
       "@F1 @LewisHamilton The excitement must be unbea...                  Tu Quoque   \n",
       "#F1 World champion Lewis Hamilton made it five ...           Outlook Magazine   \n",
       "@F1 @redbullracing flags looks similar in color...  Vino Kumar Ponnu Krishnan   \n",
       "@F1 @redbullracing @LewisHamilton and his 2 bod...                       EAGG   \n",
       "@F1 @LewisHamilton @MercedesAMGF1 DO NOT compar...              Alessandro 🇮🇹   \n",
       "\n",
       "                                                    RETWEET_COUNT  \\\n",
       "TEXT                                                                \n",
       "Evening reading? Our South American Motor Racin...              0   \n",
       "@F1 Do you want to see @GeorgeRussell63 racing ...              0   \n",
       "Our South American Motor Racing Expert @AlexFra...              0   \n",
       "Toto Wolff: Overall, it was just a colossal fuc...              0   \n",
       "@GeorgeRussell63 @SChecoPerez Your great perfor...              0   \n",
       "...                                                           ...   \n",
       "@F1 @LewisHamilton The excitement must be unbea...              0   \n",
       "#F1 World champion Lewis Hamilton made it five ...              0   \n",
       "@F1 @redbullracing flags looks similar in color...              0   \n",
       "@F1 @redbullracing @LewisHamilton and his 2 bod...              0   \n",
       "@F1 @LewisHamilton @MercedesAMGF1 DO NOT compar...              0   \n",
       "\n",
       "                                                    FAVORITE_COUNT  \\\n",
       "TEXT                                                                 \n",
       "Evening reading? Our South American Motor Racin...               0   \n",
       "@F1 Do you want to see @GeorgeRussell63 racing ...               0   \n",
       "Our South American Motor Racing Expert @AlexFra...               0   \n",
       "Toto Wolff: Overall, it was just a colossal fuc...               0   \n",
       "@GeorgeRussell63 @SChecoPerez Your great perfor...               1   \n",
       "...                                                            ...   \n",
       "@F1 @LewisHamilton The excitement must be unbea...               0   \n",
       "#F1 World champion Lewis Hamilton made it five ...               0   \n",
       "@F1 @redbullracing flags looks similar in color...               0   \n",
       "@F1 @redbullracing @LewisHamilton and his 2 bod...               0   \n",
       "@F1 @LewisHamilton @MercedesAMGF1 DO NOT compar...               1   \n",
       "\n",
       "                                                         DATE_AND_TIME  \n",
       "TEXT                                                                    \n",
       "Evening reading? Our South American Motor Racin... 2020-12-08 20:19:54  \n",
       "@F1 Do you want to see @GeorgeRussell63 racing ... 2020-12-08 18:01:12  \n",
       "Our South American Motor Racing Expert @AlexFra... 2020-12-08 16:12:17  \n",
       "Toto Wolff: Overall, it was just a colossal fuc... 2020-12-08 03:15:01  \n",
       "@GeorgeRussell63 @SChecoPerez Your great perfor... 2020-12-07 20:17:58  \n",
       "...                                                                ...  \n",
       "@F1 @LewisHamilton The excitement must be unbea... 2020-11-30 16:12:52  \n",
       "#F1 World champion Lewis Hamilton made it five ... 2020-11-29 18:03:41  \n",
       "@F1 @redbullracing flags looks similar in color... 2020-11-29 17:52:22  \n",
       "@F1 @redbullracing @LewisHamilton and his 2 bod... 2020-11-29 17:41:12  \n",
       "@F1 @LewisHamilton @MercedesAMGF1 DO NOT compar... 2020-11-29 17:18:30  \n",
       "\n",
       "[100 rows x 4 columns]"
      ]
     },
     "execution_count": 7,
     "metadata": {},
     "output_type": "execute_result"
    }
   ],
   "source": [
    "text_index"
   ]
  },
  {
   "cell_type": "markdown",
   "metadata": {},
   "source": [
    "### We import numpy to make a random selection to determine our winning tweet."
   ]
  },
  {
   "cell_type": "code",
   "execution_count": 8,
   "metadata": {},
   "outputs": [],
   "source": [
    "import numpy as np"
   ]
  },
  {
   "cell_type": "code",
   "execution_count": 9,
   "metadata": {},
   "outputs": [],
   "source": [
    "winner_text= np.random.choice(dataframe.TEXT)"
   ]
  },
  {
   "cell_type": "markdown",
   "metadata": {},
   "source": [
    "## WINNER TWEET"
   ]
  },
  {
   "cell_type": "code",
   "execution_count": 10,
   "metadata": {
    "scrolled": true
   },
   "outputs": [
    {
     "name": "stdout",
     "output_type": "stream",
     "text": [
      "The winners tweet is Hey @MercedesAMGF1, do you still have @nico_rosberg’s number?? \n",
      "\n",
      "@F1 #f1 #lewishamilton #nicorosberg #mercedes.\n"
     ]
    }
   ],
   "source": [
    "print ('The winners tweet is ' + winner_text+'.')"
   ]
  },
  {
   "cell_type": "markdown",
   "metadata": {},
   "source": [
    "### We find the informations of our winner in the dataframe and put that information in a new dataframe to observe easily"
   ]
  },
  {
   "cell_type": "code",
   "execution_count": 11,
   "metadata": {},
   "outputs": [],
   "source": [
    "dataframe2 = pd.DataFrame(text_index.loc[winner_text])"
   ]
  },
  {
   "cell_type": "code",
   "execution_count": 12,
   "metadata": {},
   "outputs": [
    {
     "data": {
      "text/html": [
       "<div>\n",
       "<style scoped>\n",
       "    .dataframe tbody tr th:only-of-type {\n",
       "        vertical-align: middle;\n",
       "    }\n",
       "\n",
       "    .dataframe tbody tr th {\n",
       "        vertical-align: top;\n",
       "    }\n",
       "\n",
       "    .dataframe thead th {\n",
       "        text-align: right;\n",
       "    }\n",
       "</style>\n",
       "<table border=\"1\" class=\"dataframe\">\n",
       "  <thead>\n",
       "    <tr style=\"text-align: right;\">\n",
       "      <th></th>\n",
       "      <th>WINNER</th>\n",
       "    </tr>\n",
       "  </thead>\n",
       "  <tbody>\n",
       "    <tr>\n",
       "      <th>USERNAME</th>\n",
       "      <td>Daniel Cudmore</td>\n",
       "    </tr>\n",
       "    <tr>\n",
       "      <th>RETWEET_COUNT</th>\n",
       "      <td>0</td>\n",
       "    </tr>\n",
       "    <tr>\n",
       "      <th>FAVORITE_COUNT</th>\n",
       "      <td>1</td>\n",
       "    </tr>\n",
       "    <tr>\n",
       "      <th>DATE_AND_TIME</th>\n",
       "      <td>2020-12-01 11:35:18</td>\n",
       "    </tr>\n",
       "  </tbody>\n",
       "</table>\n",
       "</div>"
      ],
      "text/plain": [
       "                             WINNER\n",
       "USERNAME             Daniel Cudmore\n",
       "RETWEET_COUNT                     0\n",
       "FAVORITE_COUNT                    1\n",
       "DATE_AND_TIME   2020-12-01 11:35:18"
      ]
     },
     "execution_count": 12,
     "metadata": {},
     "output_type": "execute_result"
    }
   ],
   "source": [
    "dataframe2.columns=[\"WINNER\"]\n",
    "dataframe2"
   ]
  },
  {
   "cell_type": "code",
   "execution_count": 13,
   "metadata": {},
   "outputs": [
    {
     "name": "stdout",
     "output_type": "stream",
     "text": [
      "THE WINNER IS; \n",
      "Daniel Cudmore\n"
     ]
    }
   ],
   "source": [
    "winner= dataframe2.WINNER[0]\n",
    "print ('THE WINNER IS; ')\n",
    "print (winner)"
   ]
  },
  {
   "cell_type": "code",
   "execution_count": null,
   "metadata": {},
   "outputs": [],
   "source": []
  }
 ],
 "metadata": {
  "kernelspec": {
   "display_name": "Python 3",
   "language": "python",
   "name": "python3"
  },
  "language_info": {
   "codemirror_mode": {
    "name": "ipython",
    "version": 3
   },
   "file_extension": ".py",
   "mimetype": "text/x-python",
   "name": "python",
   "nbconvert_exporter": "python",
   "pygments_lexer": "ipython3",
   "version": "3.8.3"
  }
 },
 "nbformat": 4,
 "nbformat_minor": 4
}
